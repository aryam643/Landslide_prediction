{
 "cells": [
  {
   "cell_type": "code",
   "execution_count": 66,
   "metadata": {},
   "outputs": [],
   "source": [
    "import numpy as pd\n",
    "import pandas as pd\n",
    "from sklearn.model_selection import train_test_split\n",
    "from sklearn.preprocessing import StandardScaler\n",
    "from tensorflow.keras.models import Sequential\n",
    "from tensorflow.keras.layers import LSTM, Bidirectional, Dense, Dropout\n",
    "from tensorflow.keras.optimizers import Adam\n"
   ]
  },
  {
   "cell_type": "code",
   "execution_count": 8,
   "metadata": {},
   "outputs": [],
   "source": [
    "df=pd.read_csv(\"Landslide Civildf_new.csv\")"
   ]
  },
  {
   "cell_type": "code",
   "execution_count": 9,
   "metadata": {},
   "outputs": [
    {
     "data": {
      "text/html": [
       "<div>\n",
       "<style scoped>\n",
       "    .dataframe tbody tr th:only-of-type {\n",
       "        vertical-align: middle;\n",
       "    }\n",
       "\n",
       "    .dataframe tbody tr th {\n",
       "        vertical-align: top;\n",
       "    }\n",
       "\n",
       "    .dataframe thead th {\n",
       "        text-align: right;\n",
       "    }\n",
       "</style>\n",
       "<table border=\"1\" class=\"dataframe\">\n",
       "  <thead>\n",
       "    <tr style=\"text-align: right;\">\n",
       "      <th></th>\n",
       "      <th>Unnamed: 0</th>\n",
       "      <th>Timestamp</th>\n",
       "      <th>Rainfall</th>\n",
       "      <th>Water level</th>\n",
       "      <th>Inc30mup</th>\n",
       "      <th>Inc 30m down</th>\n",
       "      <th>Inc 20m up</th>\n",
       "      <th>Inc 20m down</th>\n",
       "      <th>Inc 10m up</th>\n",
       "      <th>Inc 10m down</th>\n",
       "      <th>1st Tensiometer</th>\n",
       "      <th>2nd Tensiometer</th>\n",
       "      <th>3rd Tensiometer</th>\n",
       "      <th>4th Tensiometer</th>\n",
       "      <th>5th Tensiometer</th>\n",
       "    </tr>\n",
       "  </thead>\n",
       "  <tbody>\n",
       "    <tr>\n",
       "      <th>0</th>\n",
       "      <td>0</td>\n",
       "      <td>2022-12-01 01:00:00</td>\n",
       "      <td>0.0</td>\n",
       "      <td>-177.753910</td>\n",
       "      <td>24.520339</td>\n",
       "      <td>31.058241</td>\n",
       "      <td>16.023206</td>\n",
       "      <td>26.345443</td>\n",
       "      <td>20.637553</td>\n",
       "      <td>25.830825</td>\n",
       "      <td>-48.832508</td>\n",
       "      <td>-49.926434</td>\n",
       "      <td>181.57994</td>\n",
       "      <td>-3.156536</td>\n",
       "      <td>-48.597010</td>\n",
       "    </tr>\n",
       "    <tr>\n",
       "      <th>1</th>\n",
       "      <td>1</td>\n",
       "      <td>2022-12-01 02:00:00</td>\n",
       "      <td>0.0</td>\n",
       "      <td>-104.417316</td>\n",
       "      <td>26.093114</td>\n",
       "      <td>37.702314</td>\n",
       "      <td>15.116429</td>\n",
       "      <td>36.349078</td>\n",
       "      <td>20.836093</td>\n",
       "      <td>29.274305</td>\n",
       "      <td>-48.868384</td>\n",
       "      <td>-49.929076</td>\n",
       "      <td>181.60057</td>\n",
       "      <td>-3.142777</td>\n",
       "      <td>-48.629946</td>\n",
       "    </tr>\n",
       "    <tr>\n",
       "      <th>2</th>\n",
       "      <td>2</td>\n",
       "      <td>2022-12-01 03:00:00</td>\n",
       "      <td>0.0</td>\n",
       "      <td>-158.065690</td>\n",
       "      <td>29.426647</td>\n",
       "      <td>27.552242</td>\n",
       "      <td>20.673672</td>\n",
       "      <td>31.637946</td>\n",
       "      <td>20.879557</td>\n",
       "      <td>26.278678</td>\n",
       "      <td>-48.895732</td>\n",
       "      <td>-49.930162</td>\n",
       "      <td>181.61358</td>\n",
       "      <td>-3.129418</td>\n",
       "      <td>-48.652374</td>\n",
       "    </tr>\n",
       "    <tr>\n",
       "      <th>3</th>\n",
       "      <td>3</td>\n",
       "      <td>2022-12-01 04:00:00</td>\n",
       "      <td>0.0</td>\n",
       "      <td>-189.458110</td>\n",
       "      <td>30.382570</td>\n",
       "      <td>34.624852</td>\n",
       "      <td>21.397603</td>\n",
       "      <td>27.999477</td>\n",
       "      <td>22.426564</td>\n",
       "      <td>25.463844</td>\n",
       "      <td>-48.914294</td>\n",
       "      <td>-49.932082</td>\n",
       "      <td>181.61197</td>\n",
       "      <td>-3.137719</td>\n",
       "      <td>-48.671676</td>\n",
       "    </tr>\n",
       "    <tr>\n",
       "      <th>4</th>\n",
       "      <td>4</td>\n",
       "      <td>2022-12-01 05:00:00</td>\n",
       "      <td>0.0</td>\n",
       "      <td>-197.408960</td>\n",
       "      <td>25.493729</td>\n",
       "      <td>29.837320</td>\n",
       "      <td>18.103459</td>\n",
       "      <td>31.207890</td>\n",
       "      <td>23.932405</td>\n",
       "      <td>28.861409</td>\n",
       "      <td>-48.914736</td>\n",
       "      <td>-49.932394</td>\n",
       "      <td>181.62403</td>\n",
       "      <td>-3.137719</td>\n",
       "      <td>-48.673116</td>\n",
       "    </tr>\n",
       "  </tbody>\n",
       "</table>\n",
       "</div>"
      ],
      "text/plain": [
       "   Unnamed: 0            Timestamp  Rainfall  Water level   Inc30mup  \\\n",
       "0           0  2022-12-01 01:00:00       0.0  -177.753910  24.520339   \n",
       "1           1  2022-12-01 02:00:00       0.0  -104.417316  26.093114   \n",
       "2           2  2022-12-01 03:00:00       0.0  -158.065690  29.426647   \n",
       "3           3  2022-12-01 04:00:00       0.0  -189.458110  30.382570   \n",
       "4           4  2022-12-01 05:00:00       0.0  -197.408960  25.493729   \n",
       "\n",
       "   Inc 30m down   Inc 20m up   Inc 20m down  Inc 10m up  Inc 10m down  \\\n",
       "0      31.058241    16.023206     26.345443   20.637553     25.830825   \n",
       "1      37.702314    15.116429     36.349078   20.836093     29.274305   \n",
       "2      27.552242    20.673672     31.637946   20.879557     26.278678   \n",
       "3      34.624852    21.397603     27.999477   22.426564     25.463844   \n",
       "4      29.837320    18.103459     31.207890   23.932405     28.861409   \n",
       "\n",
       "   1st Tensiometer  2nd Tensiometer  3rd Tensiometer   4th Tensiometer  \\\n",
       "0       -48.832508       -49.926434         181.57994        -3.156536   \n",
       "1       -48.868384       -49.929076         181.60057        -3.142777   \n",
       "2       -48.895732       -49.930162         181.61358        -3.129418   \n",
       "3       -48.914294       -49.932082         181.61197        -3.137719   \n",
       "4       -48.914736       -49.932394         181.62403        -3.137719   \n",
       "\n",
       "   5th Tensiometer  \n",
       "0       -48.597010  \n",
       "1       -48.629946  \n",
       "2       -48.652374  \n",
       "3       -48.671676  \n",
       "4       -48.673116  "
      ]
     },
     "execution_count": 9,
     "metadata": {},
     "output_type": "execute_result"
    }
   ],
   "source": [
    "df.head()"
   ]
  },
  {
   "cell_type": "code",
   "execution_count": 10,
   "metadata": {},
   "outputs": [
    {
     "name": "stdout",
     "output_type": "stream",
     "text": [
      "<class 'pandas.core.frame.DataFrame'>\n",
      "RangeIndex: 696 entries, 0 to 695\n",
      "Data columns (total 15 columns):\n",
      " #   Column            Non-Null Count  Dtype  \n",
      "---  ------            --------------  -----  \n",
      " 0   Unnamed: 0        696 non-null    int64  \n",
      " 1   Timestamp         696 non-null    object \n",
      " 2   Rainfall          696 non-null    float64\n",
      " 3   Water level       696 non-null    float64\n",
      " 4   Inc30mup          696 non-null    float64\n",
      " 5   Inc 30m down      696 non-null    float64\n",
      " 6   Inc 20m up        696 non-null    float64\n",
      " 7   Inc 20m down      696 non-null    float64\n",
      " 8   Inc 10m up        696 non-null    float64\n",
      " 9   Inc 10m down      696 non-null    float64\n",
      " 10  1st Tensiometer   696 non-null    float64\n",
      " 11  2nd Tensiometer   696 non-null    float64\n",
      " 12  3rd Tensiometer   696 non-null    float64\n",
      " 13  4th Tensiometer   696 non-null    float64\n",
      " 14  5th Tensiometer   696 non-null    float64\n",
      "dtypes: float64(13), int64(1), object(1)\n",
      "memory usage: 81.7+ KB\n"
     ]
    }
   ],
   "source": [
    "df.info()"
   ]
  },
  {
   "cell_type": "code",
   "execution_count": 11,
   "metadata": {},
   "outputs": [],
   "source": [
    "features = df.drop(columns=['Timestamp','5th Tensiometer'],axis=1)\n",
    "target=df['5th Tensiometer']"
   ]
  },
  {
   "cell_type": "code",
   "execution_count": 14,
   "metadata": {},
   "outputs": [
    {
     "data": {
      "text/plain": [
       "array([[-1.72956401, -0.12415269, -0.66883956, ..., -0.32298425,\n",
       "        -1.77207431, -0.50104039],\n",
       "       [-1.72458685, -0.12415269, -0.4710909 , ..., -0.41201051,\n",
       "        -1.61621225, -0.28289283],\n",
       "       [-1.71960969, -0.12415269, -0.61575121, ..., -0.44860495,\n",
       "        -1.51792017, -0.07109493],\n",
       "       ...,\n",
       "       [ 1.71960969, -0.12415269, -0.01582525, ..., -1.06208418,\n",
       "         1.45675607,  1.19431785],\n",
       "       [ 1.72458685, -0.12415269, -0.34586704, ..., -1.1203118 ,\n",
       "         1.52973851,  1.44379355],\n",
       "       [ 1.72956401, -0.12415269, -0.49975235, ..., -1.16681303,\n",
       "         1.59093495,  1.54941505]])"
      ]
     },
     "execution_count": 14,
     "metadata": {},
     "output_type": "execute_result"
    }
   ],
   "source": [
    "#Standarization\n",
    "scaler = StandardScaler()\n",
    "features_standarized=scaler.fit_transform(features)\n",
    "features_standarized"
   ]
  },
  {
   "cell_type": "code",
   "execution_count": 15,
   "metadata": {},
   "outputs": [],
   "source": [
    "#Splitting Dataset\n",
    "X_train, X_test, y_train, y_test = train_test_split(features_standarized, target, test_size=0.25, random_state=42)"
   ]
  },
  {
   "cell_type": "code",
   "execution_count": 16,
   "metadata": {},
   "outputs": [
    {
     "data": {
      "text/plain": [
       "array([[-0.91828651, -0.12415269, -0.58714365, ...,  0.25066566,\n",
       "        -0.71941985, -0.59170333],\n",
       "       [ 0.89837785, -0.12415269, -0.73058854, ..., -0.78590733,\n",
       "         0.8938243 ,  0.68308728],\n",
       "       [ 1.30152803, -0.12415269, -0.14480504, ..., -0.26105001,\n",
       "         0.99589393,  0.68907229],\n",
       "       ...,\n",
       "       [-0.3857301 , -0.12415269, -0.07126468, ..., -0.89184925,\n",
       "         0.55573281,  1.08726154],\n",
       "       [ 0.43550173, -0.12415269, -0.38206701, ..., -0.89319711,\n",
       "         0.86405714,  0.55522217],\n",
       "       [-1.22189343, -0.12415269, -0.17935243, ..., -0.86711599,\n",
       "        -0.14371993,  1.06772901]])"
      ]
     },
     "execution_count": 16,
     "metadata": {},
     "output_type": "execute_result"
    }
   ],
   "source": [
    "X_train"
   ]
  },
  {
   "cell_type": "code",
   "execution_count": 17,
   "metadata": {},
   "outputs": [
    {
     "data": {
      "text/plain": [
       "array([[ 1.6250436 , -0.12415269, -0.14942021, ..., -1.32174972,\n",
       "         1.74437938,  1.86267269],\n",
       "       [-0.16673495, -0.12415269, -0.42938059, ..., -0.740417  ,\n",
       "         0.43802409,  0.7744716 ],\n",
       "       [ 1.31148235, -0.12415269, -0.18681942, ..., -0.32851048,\n",
       "         0.85846635,  0.38328997],\n",
       "       ...,\n",
       "       [ 1.00787543, -0.12415269, -0.42691221, ..., -0.73954089,\n",
       "         0.97617508,  0.76086067],\n",
       "       [-0.86353772, -0.12415269, -0.56315176, ..., -1.07003656,\n",
       "         0.41165673,  1.42027366],\n",
       "       [ 1.51554602, -0.12415269,  0.03806099, ..., -1.36622916,\n",
       "         1.69368455,  1.59614567]])"
      ]
     },
     "execution_count": 17,
     "metadata": {},
     "output_type": "execute_result"
    }
   ],
   "source": [
    "X_test"
   ]
  },
  {
   "cell_type": "code",
   "execution_count": 19,
   "metadata": {},
   "outputs": [
    {
     "data": {
      "text/plain": [
       "163   -48.431280\n",
       "528   -48.795172\n",
       "609   -48.624546\n",
       "436   -48.821596\n",
       "344   -48.596044\n",
       "         ...    \n",
       "71    -48.677400\n",
       "106   -48.006228\n",
       "270   -48.836298\n",
       "435   -48.817610\n",
       "102   -48.837084\n",
       "Name: 5th Tensiometer, Length: 522, dtype: float64"
      ]
     },
     "execution_count": 19,
     "metadata": {},
     "output_type": "execute_result"
    }
   ],
   "source": [
    "y_train"
   ]
  },
  {
   "cell_type": "code",
   "execution_count": 20,
   "metadata": {},
   "outputs": [
    {
     "data": {
      "text/plain": [
       "674   -49.014426\n",
       "314   -48.779206\n",
       "611   -48.628022\n",
       "431   -48.804524\n",
       "552   -48.850660\n",
       "         ...    \n",
       "215   -48.781244\n",
       "635   -48.516480\n",
       "550   -48.775872\n",
       "174   -48.922416\n",
       "652   -49.028972\n",
       "Name: 5th Tensiometer, Length: 174, dtype: float64"
      ]
     },
     "execution_count": 20,
     "metadata": {},
     "output_type": "execute_result"
    }
   ],
   "source": [
    "y_test"
   ]
  },
  {
   "cell_type": "code",
   "execution_count": 21,
   "metadata": {},
   "outputs": [],
   "source": [
    "#Reshaping data\n",
    "timesteps=1\n",
    "features_count=X_train.shape[1]\n",
    "X_train_reshaped=X_train.reshape(X_train.shape[0],timesteps,features_count)\n",
    "X_test_reshaped=X_test.reshape(X_test.shape[0],timesteps,features_count)"
   ]
  },
  {
   "cell_type": "code",
   "execution_count": 22,
   "metadata": {},
   "outputs": [
    {
     "data": {
      "text/plain": [
       "array([[[-0.91828651, -0.12415269, -0.58714365, ...,  0.25066566,\n",
       "         -0.71941985, -0.59170333]],\n",
       "\n",
       "       [[ 0.89837785, -0.12415269, -0.73058854, ..., -0.78590733,\n",
       "          0.8938243 ,  0.68308728]],\n",
       "\n",
       "       [[ 1.30152803, -0.12415269, -0.14480504, ..., -0.26105001,\n",
       "          0.99589393,  0.68907229]],\n",
       "\n",
       "       ...,\n",
       "\n",
       "       [[-0.3857301 , -0.12415269, -0.07126468, ..., -0.89184925,\n",
       "          0.55573281,  1.08726154]],\n",
       "\n",
       "       [[ 0.43550173, -0.12415269, -0.38206701, ..., -0.89319711,\n",
       "          0.86405714,  0.55522217]],\n",
       "\n",
       "       [[-1.22189343, -0.12415269, -0.17935243, ..., -0.86711599,\n",
       "         -0.14371993,  1.06772901]]])"
      ]
     },
     "execution_count": 22,
     "metadata": {},
     "output_type": "execute_result"
    }
   ],
   "source": [
    "X_train_reshaped"
   ]
  },
  {
   "cell_type": "code",
   "execution_count": 23,
   "metadata": {},
   "outputs": [
    {
     "data": {
      "text/plain": [
       "array([[[ 1.6250436 , -0.12415269, -0.14942021, ..., -1.32174972,\n",
       "          1.74437938,  1.86267269]],\n",
       "\n",
       "       [[-0.16673495, -0.12415269, -0.42938059, ..., -0.740417  ,\n",
       "          0.43802409,  0.7744716 ]],\n",
       "\n",
       "       [[ 1.31148235, -0.12415269, -0.18681942, ..., -0.32851048,\n",
       "          0.85846635,  0.38328997]],\n",
       "\n",
       "       ...,\n",
       "\n",
       "       [[ 1.00787543, -0.12415269, -0.42691221, ..., -0.73954089,\n",
       "          0.97617508,  0.76086067]],\n",
       "\n",
       "       [[-0.86353772, -0.12415269, -0.56315176, ..., -1.07003656,\n",
       "          0.41165673,  1.42027366]],\n",
       "\n",
       "       [[ 1.51554602, -0.12415269,  0.03806099, ..., -1.36622916,\n",
       "          1.69368455,  1.59614567]]])"
      ]
     },
     "execution_count": 23,
     "metadata": {},
     "output_type": "execute_result"
    }
   ],
   "source": [
    "X_test_reshaped"
   ]
  },
  {
   "cell_type": "code",
   "execution_count": 69,
   "metadata": {},
   "outputs": [
    {
     "ename": "IndexError",
     "evalue": "tuple index out of range",
     "output_type": "error",
     "traceback": [
      "\u001b[1;31m---------------------------------------------------------------------------\u001b[0m",
      "\u001b[1;31mIndexError\u001b[0m                                Traceback (most recent call last)",
      "Cell \u001b[1;32mIn[69], line 6\u001b[0m\n\u001b[0;32m      1\u001b[0m \u001b[38;5;66;03m# Assuming 'X_train' and 'y_train' are your training data and labels\u001b[39;00m\n\u001b[0;32m      2\u001b[0m \u001b[38;5;66;03m# Assuming 'X_test' and 'y_test' are your testing data and labels\u001b[39;00m\n\u001b[0;32m      3\u001b[0m \n\u001b[0;32m      4\u001b[0m \u001b[38;5;66;03m# Define the model\u001b[39;00m\n\u001b[0;32m      5\u001b[0m model \u001b[38;5;241m=\u001b[39m Sequential()\n\u001b[1;32m----> 6\u001b[0m model\u001b[38;5;241m.\u001b[39madd(Bidirectional(LSTM(\u001b[38;5;241m512\u001b[39m, return_sequences\u001b[38;5;241m=\u001b[39m\u001b[38;5;28;01mTrue\u001b[39;00m), input_shape\u001b[38;5;241m=\u001b[39m(X_train\u001b[38;5;241m.\u001b[39mshape[\u001b[38;5;241m1\u001b[39m], \u001b[43mX_train\u001b[49m\u001b[38;5;241;43m.\u001b[39;49m\u001b[43mshape\u001b[49m\u001b[43m[\u001b[49m\u001b[38;5;241;43m2\u001b[39;49m\u001b[43m]\u001b[49m)))\n\u001b[0;32m      7\u001b[0m model\u001b[38;5;241m.\u001b[39madd(Bidirectional(LSTM(\u001b[38;5;241m512\u001b[39m, return_sequences\u001b[38;5;241m=\u001b[39m\u001b[38;5;28;01mTrue\u001b[39;00m)))\n\u001b[0;32m      8\u001b[0m model\u001b[38;5;241m.\u001b[39madd(Dropout(\u001b[38;5;241m0.5\u001b[39m))\n",
      "\u001b[1;31mIndexError\u001b[0m: tuple index out of range"
     ]
    }
   ],
   "source": [
    "# Assuming 'X_train' and 'y_train' are your training data and labels\n",
    "# Assuming 'X_test' and 'y_test' are your testing data and labels\n",
    "\n",
    "# Define the model\n",
    "model = Sequential()\n",
    "model.add(Bidirectional(LSTM(512, return_sequences=True), input_shape=(X_train.shape[1], X_train.shape[2])))\n",
    "model.add(Bidirectional(LSTM(512, return_sequences=True)))\n",
    "model.add(Dropout(0.5))\n",
    "\n",
    "# Compile the model\n",
    "model.compile(optimizer=Adam(), loss='mse')\n",
    "model.summary()\n"
   ]
  },
  {
   "cell_type": "code",
   "execution_count": 60,
   "metadata": {},
   "outputs": [],
   "source": [
    "#Bi-directional LSTM Model\n",
    "input_shape=(timesteps,features_count)\n",
    "units=512\n",
    "model=Sequential()\n",
    "model.add(Bidirectional(LSTM(units,return_sequences=True,input_shape=input_shape)))\n",
    "model.add(Dropout(0.5))\n",
    "model.add(Bidirectional(LSTM(units,return_sequences=True,go_backwards=True)))\n",
    "model.add(Dropout(0.5))\n",
    "model.add(Bidirectional(LSTM(192, return_sequences=True)))\n",
    "model.add(Dropout(0.5))\n",
    "model.add(Bidirectional(LSTM(32, return_sequences=True)))\n",
    "model.add(Dropout(0.5))\n",
    "model.add(Bidirectional(LSTM(96, return_sequences=True)))\n",
    "model.add(Dropout(0.5))\n",
    "model.add(Dense(1,activation='linear'))\n",
    "#Building Model\n",
    "model.build((None,*input_shape))\n",
    "model.compile(optimizer='adam',loss='mse')"
   ]
  },
  {
   "cell_type": "code",
   "execution_count": 61,
   "metadata": {},
   "outputs": [
    {
     "name": "stdout",
     "output_type": "stream",
     "text": [
      "Model: \"sequential_9\"\n",
      "_________________________________________________________________\n",
      " Layer (type)                Output Shape              Param #   \n",
      "=================================================================\n",
      " bidirectional_16 (Bidirect  (None, 1, 1024)           2154496   \n",
      " ional)                                                          \n",
      "                                                                 \n",
      " dropout_2 (Dropout)         (None, 1, 1024)           0         \n",
      "                                                                 \n",
      " bidirectional_17 (Bidirect  (None, 1, 1024)           6295552   \n",
      " ional)                                                          \n",
      "                                                                 \n",
      " dropout_3 (Dropout)         (None, 1, 1024)           0         \n",
      "                                                                 \n",
      " bidirectional_18 (Bidirect  (None, 1, 384)            1869312   \n",
      " ional)                                                          \n",
      "                                                                 \n",
      " dropout_4 (Dropout)         (None, 1, 384)            0         \n",
      "                                                                 \n",
      " bidirectional_19 (Bidirect  (None, 1, 64)             106752    \n",
      " ional)                                                          \n",
      "                                                                 \n",
      " dropout_5 (Dropout)         (None, 1, 64)             0         \n",
      "                                                                 \n",
      " bidirectional_20 (Bidirect  (None, 1, 192)            123648    \n",
      " ional)                                                          \n",
      "                                                                 \n",
      " dropout_6 (Dropout)         (None, 1, 192)            0         \n",
      "                                                                 \n",
      " dense_8 (Dense)             (None, 1, 1)              193       \n",
      "                                                                 \n",
      "=================================================================\n",
      "Total params: 10549953 (40.24 MB)\n",
      "Trainable params: 10549953 (40.24 MB)\n",
      "Non-trainable params: 0 (0.00 Byte)\n",
      "_________________________________________________________________\n"
     ]
    }
   ],
   "source": [
    "model.summary()"
   ]
  },
  {
   "cell_type": "code",
   "execution_count": 63,
   "metadata": {},
   "outputs": [
    {
     "name": "stdout",
     "output_type": "stream",
     "text": [
      "1/1 [==============================] - 0s 330ms/step - loss: 2354.7739 - val_loss: 2354.4236\n"
     ]
    },
    {
     "data": {
      "text/plain": [
       "<keras.src.callbacks.History at 0x12e33bafa10>"
      ]
     },
     "execution_count": 63,
     "metadata": {},
     "output_type": "execute_result"
    }
   ],
   "source": [
    "#Training model\n",
    "model.fit(X_train_reshaped,y_train,epochs=1,batch_size=697,validation_data=(X_test_reshaped,y_test))"
   ]
  },
  {
   "cell_type": "code",
   "execution_count": 64,
   "metadata": {},
   "outputs": [
    {
     "name": "stdout",
     "output_type": "stream",
     "text": [
      "Model: \"sequential_9\"\n",
      "_________________________________________________________________\n",
      " Layer (type)                Output Shape              Param #   \n",
      "=================================================================\n",
      " bidirectional_16 (Bidirect  (None, 1, 1024)           2154496   \n",
      " ional)                                                          \n",
      "                                                                 \n",
      " dropout_2 (Dropout)         (None, 1, 1024)           0         \n",
      "                                                                 \n",
      " bidirectional_17 (Bidirect  (None, 1, 1024)           6295552   \n",
      " ional)                                                          \n",
      "                                                                 \n",
      " dropout_3 (Dropout)         (None, 1, 1024)           0         \n",
      "                                                                 \n",
      " bidirectional_18 (Bidirect  (None, 1, 384)            1869312   \n",
      " ional)                                                          \n",
      "                                                                 \n",
      " dropout_4 (Dropout)         (None, 1, 384)            0         \n",
      "                                                                 \n",
      " bidirectional_19 (Bidirect  (None, 1, 64)             106752    \n",
      " ional)                                                          \n",
      "                                                                 \n",
      " dropout_5 (Dropout)         (None, 1, 64)             0         \n",
      "                                                                 \n",
      " bidirectional_20 (Bidirect  (None, 1, 192)            123648    \n",
      " ional)                                                          \n",
      "                                                                 \n",
      " dropout_6 (Dropout)         (None, 1, 192)            0         \n",
      "                                                                 \n",
      " dense_8 (Dense)             (None, 1, 1)              193       \n",
      "                                                                 \n",
      "=================================================================\n",
      "Total params: 10549953 (40.24 MB)\n",
      "Trainable params: 10549953 (40.24 MB)\n",
      "Non-trainable params: 0 (0.00 Byte)\n",
      "_________________________________________________________________\n"
     ]
    }
   ],
   "source": [
    "#Model before making predictions\n",
    "model.build(X_test_reshaped.shape)\n",
    "model.summary()"
   ]
  },
  {
   "cell_type": "code",
   "execution_count": 65,
   "metadata": {},
   "outputs": [
    {
     "name": "stdout",
     "output_type": "stream",
     "text": [
      "6/6 [==============================] - 4s 9ms/step\n",
      "Mean Squared Error on Test Data:48.521222676527415\n",
      "R2 Score on Test Data:-20528.599813332155\n"
     ]
    }
   ],
   "source": [
    "#Predicitons\n",
    "predictions=model.predict(X_test_reshaped)\n",
    "predictions=predictions.reshape(predictions.shape[0],-1)\n",
    "#Evaluating Model\n",
    "from sklearn.metrics import mean_absolute_error,r2_score\n",
    "mse=mean_absolute_error(y_test,predictions)\n",
    "r2=r2_score(y_test,predictions)\n",
    "print(f'Mean Squared Error on Test Data:{mse}')\n",
    "print(f'R2 Score on Test Data:{r2}')"
   ]
  }
 ],
 "metadata": {
  "kernelspec": {
   "display_name": "Python 3",
   "language": "python",
   "name": "python3"
  },
  "language_info": {
   "codemirror_mode": {
    "name": "ipython",
    "version": 3
   },
   "file_extension": ".py",
   "mimetype": "text/x-python",
   "name": "python",
   "nbconvert_exporter": "python",
   "pygments_lexer": "ipython3",
   "version": "3.11.5"
  }
 },
 "nbformat": 4,
 "nbformat_minor": 2
}
